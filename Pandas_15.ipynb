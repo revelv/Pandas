{
 "cells": [
  {
   "cell_type": "code",
   "execution_count": null,
   "id": "e6ede6e2-bc5d-4809-bd5f-fbc58bb96670",
   "metadata": {},
   "outputs": [],
   "source": [
    "## \\#15: Memecah nilai string dari suatu kolom ke dalam beberapa kolom baru"
   ]
  },
  {
   "cell_type": "code",
   "execution_count": 2,
   "id": "005bf9ed-578e-4d6f-8443-379b996e1234",
   "metadata": {},
   "outputs": [
    {
     "name": "stdout",
     "output_type": "stream",
     "text": [
      "2.2.2\n"
     ]
    }
   ],
   "source": [
    "import pandas as pd\n",
    "\n",
    "print(pd.__version__)"
   ]
  },
  {
   "cell_type": "code",
   "execution_count": 8,
   "id": "95eb218c-a96b-48f6-9f27-db31fed15c5a",
   "metadata": {},
   "outputs": [
    {
     "data": {
      "text/html": [
       "<div>\n",
       "<style scoped>\n",
       "    .dataframe tbody tr th:only-of-type {\n",
       "        vertical-align: middle;\n",
       "    }\n",
       "\n",
       "    .dataframe tbody tr th {\n",
       "        vertical-align: top;\n",
       "    }\n",
       "\n",
       "    .dataframe thead th {\n",
       "        text-align: right;\n",
       "    }\n",
       "</style>\n",
       "<table border=\"1\" class=\"dataframe\">\n",
       "  <thead>\n",
       "    <tr style=\"text-align: right;\">\n",
       "      <th></th>\n",
       "      <th>nama</th>\n",
       "      <th>tempat_kelahiran</th>\n",
       "    </tr>\n",
       "  </thead>\n",
       "  <tbody>\n",
       "    <tr>\n",
       "      <th>0</th>\n",
       "      <td>Didi Kempot</td>\n",
       "      <td>Surakarta, Jawa Tengah</td>\n",
       "    </tr>\n",
       "    <tr>\n",
       "      <th>1</th>\n",
       "      <td>Glenn Fredly</td>\n",
       "      <td>Jakarta, DKI Jakarta</td>\n",
       "    </tr>\n",
       "    <tr>\n",
       "      <th>2</th>\n",
       "      <td>Mbah Sambo</td>\n",
       "      <td>Jambi, Jawa Timur</td>\n",
       "    </tr>\n",
       "  </tbody>\n",
       "</table>\n",
       "</div>"
      ],
      "text/plain": [
       "           nama        tempat_kelahiran\n",
       "0   Didi Kempot  Surakarta, Jawa Tengah\n",
       "1  Glenn Fredly    Jakarta, DKI Jakarta\n",
       "2    Mbah Sambo       Jambi, Jawa Timur"
      ]
     },
     "execution_count": 8,
     "metadata": {},
     "output_type": "execute_result"
    }
   ],
   "source": [
    "data = {'nama':['Didi Kempot', 'Glenn Fredly', 'Mbah Sambo'], \n",
    "        'tempat_kelahiran':['Surakarta, Jawa Tengah', 'Jakarta, DKI Jakarta', 'Jambi, Jawa Timur']}\n",
    "df = pd.DataFrame(data)\n",
    "df"
   ]
  },
  {
   "cell_type": "code",
   "execution_count": null,
   "id": "377a6751-afa8-4281-9387-8b2714f8311b",
   "metadata": {},
   "outputs": [],
   "source": [
    "### Memecah nama depan dan nama belakang"
   ]
  },
  {
   "cell_type": "code",
   "execution_count": 10,
   "id": "5b4c024e-2599-40f2-8c8c-bb0958c4b119",
   "metadata": {},
   "outputs": [
    {
     "data": {
      "text/html": [
       "<div>\n",
       "<style scoped>\n",
       "    .dataframe tbody tr th:only-of-type {\n",
       "        vertical-align: middle;\n",
       "    }\n",
       "\n",
       "    .dataframe tbody tr th {\n",
       "        vertical-align: top;\n",
       "    }\n",
       "\n",
       "    .dataframe thead th {\n",
       "        text-align: right;\n",
       "    }\n",
       "</style>\n",
       "<table border=\"1\" class=\"dataframe\">\n",
       "  <thead>\n",
       "    <tr style=\"text-align: right;\">\n",
       "      <th></th>\n",
       "      <th>nama</th>\n",
       "      <th>tempat_kelahiran</th>\n",
       "      <th>nama_depan</th>\n",
       "      <th>nama_belakang</th>\n",
       "    </tr>\n",
       "  </thead>\n",
       "  <tbody>\n",
       "    <tr>\n",
       "      <th>0</th>\n",
       "      <td>Didi Kempot</td>\n",
       "      <td>Surakarta, Jawa Tengah</td>\n",
       "      <td>Didi</td>\n",
       "      <td>Kempot</td>\n",
       "    </tr>\n",
       "    <tr>\n",
       "      <th>1</th>\n",
       "      <td>Glenn Fredly</td>\n",
       "      <td>Jakarta, DKI Jakarta</td>\n",
       "      <td>Glenn</td>\n",
       "      <td>Fredly</td>\n",
       "    </tr>\n",
       "    <tr>\n",
       "      <th>2</th>\n",
       "      <td>Mbah Sambo</td>\n",
       "      <td>Jambi, Jawa Timur</td>\n",
       "      <td>Mbah</td>\n",
       "      <td>Sambo</td>\n",
       "    </tr>\n",
       "  </tbody>\n",
       "</table>\n",
       "</div>"
      ],
      "text/plain": [
       "           nama        tempat_kelahiran nama_depan nama_belakang\n",
       "0   Didi Kempot  Surakarta, Jawa Tengah       Didi        Kempot\n",
       "1  Glenn Fredly    Jakarta, DKI Jakarta      Glenn        Fredly\n",
       "2    Mbah Sambo       Jambi, Jawa Timur       Mbah         Sambo"
      ]
     },
     "execution_count": 10,
     "metadata": {},
     "output_type": "execute_result"
    }
   ],
   "source": [
    "df[['nama_depan', 'nama_belakang']] = df['nama'].str.split(' ', expand=True)\n",
    "df"
   ]
  },
  {
   "cell_type": "code",
   "execution_count": null,
   "id": "64c027f5-5c0b-47cc-b84a-75b740044082",
   "metadata": {},
   "outputs": [],
   "source": [
    "### Memecah nama kota dan provinsi"
   ]
  },
  {
   "cell_type": "code",
   "execution_count": 12,
   "id": "551b887d-d9c7-494e-b024-2b1b783c9f91",
   "metadata": {},
   "outputs": [
    {
     "data": {
      "text/html": [
       "<div>\n",
       "<style scoped>\n",
       "    .dataframe tbody tr th:only-of-type {\n",
       "        vertical-align: middle;\n",
       "    }\n",
       "\n",
       "    .dataframe tbody tr th {\n",
       "        vertical-align: top;\n",
       "    }\n",
       "\n",
       "    .dataframe thead th {\n",
       "        text-align: right;\n",
       "    }\n",
       "</style>\n",
       "<table border=\"1\" class=\"dataframe\">\n",
       "  <thead>\n",
       "    <tr style=\"text-align: right;\">\n",
       "      <th></th>\n",
       "      <th>nama</th>\n",
       "      <th>tempat_kelahiran</th>\n",
       "      <th>nama_depan</th>\n",
       "      <th>nama_belakang</th>\n",
       "      <th>kota</th>\n",
       "      <th>propinsi</th>\n",
       "    </tr>\n",
       "  </thead>\n",
       "  <tbody>\n",
       "    <tr>\n",
       "      <th>0</th>\n",
       "      <td>Didi Kempot</td>\n",
       "      <td>Surakarta, Jawa Tengah</td>\n",
       "      <td>Didi</td>\n",
       "      <td>Kempot</td>\n",
       "      <td>Surakarta</td>\n",
       "      <td>Jawa Tengah</td>\n",
       "    </tr>\n",
       "    <tr>\n",
       "      <th>1</th>\n",
       "      <td>Glenn Fredly</td>\n",
       "      <td>Jakarta, DKI Jakarta</td>\n",
       "      <td>Glenn</td>\n",
       "      <td>Fredly</td>\n",
       "      <td>Jakarta</td>\n",
       "      <td>DKI Jakarta</td>\n",
       "    </tr>\n",
       "    <tr>\n",
       "      <th>2</th>\n",
       "      <td>Mbah Sambo</td>\n",
       "      <td>Jambi, Jawa Timur</td>\n",
       "      <td>Mbah</td>\n",
       "      <td>Sambo</td>\n",
       "      <td>Jambi</td>\n",
       "      <td>Jawa Timur</td>\n",
       "    </tr>\n",
       "  </tbody>\n",
       "</table>\n",
       "</div>"
      ],
      "text/plain": [
       "           nama        tempat_kelahiran nama_depan nama_belakang       kota  \\\n",
       "0   Didi Kempot  Surakarta, Jawa Tengah       Didi        Kempot  Surakarta   \n",
       "1  Glenn Fredly    Jakarta, DKI Jakarta      Glenn        Fredly    Jakarta   \n",
       "2    Mbah Sambo       Jambi, Jawa Timur       Mbah         Sambo      Jambi   \n",
       "\n",
       "       propinsi  \n",
       "0   Jawa Tengah  \n",
       "1   DKI Jakarta  \n",
       "2    Jawa Timur  "
      ]
     },
     "execution_count": 12,
     "metadata": {},
     "output_type": "execute_result"
    }
   ],
   "source": [
    "df[['kota', 'propinsi']] = df['tempat_kelahiran'].str.split(',', expand=True)\n",
    "df"
   ]
  }
 ],
 "metadata": {
  "kernelspec": {
   "display_name": "Python [conda env:base] *",
   "language": "python",
   "name": "conda-base-py"
  },
  "language_info": {
   "codemirror_mode": {
    "name": "ipython",
    "version": 3
   },
   "file_extension": ".py",
   "mimetype": "text/x-python",
   "name": "python",
   "nbconvert_exporter": "python",
   "pygments_lexer": "ipython3",
   "version": "3.12.7"
  }
 },
 "nbformat": 4,
 "nbformat_minor": 5
}
