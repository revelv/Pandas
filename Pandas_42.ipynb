{
 "cells": [
  {
   "cell_type": "code",
   "execution_count": null,
   "id": "f6bd8b6e-5fa4-49b6-902f-92f77c920846",
   "metadata": {},
   "outputs": [],
   "source": [
    "## \\#42: Mengurutkan data berdasarkan kolom tertentu"
   ]
  },
  {
   "cell_type": "code",
   "execution_count": 2,
   "id": "17feb719-f5c5-4b3c-a0a8-446a9dbcbb64",
   "metadata": {},
   "outputs": [
    {
     "name": "stdout",
     "output_type": "stream",
     "text": [
      "2.2.2\n"
     ]
    }
   ],
   "source": [
    "import pandas as pd\n",
    "\n",
    "print(pd.__version__)"
   ]
  },
  {
   "cell_type": "code",
   "execution_count": null,
   "id": "9d4dbf1c-52b4-450f-8807-ec4e9c8f757b",
   "metadata": {},
   "outputs": [],
   "source": [
    "df = pd.read_csv('./data/titanicfull.csv')\n",
    "df.head()"
   ]
  },
  {
   "cell_type": "code",
   "execution_count": null,
   "id": "064d1630-fe24-4923-9c1c-75eedb937e5e",
   "metadata": {},
   "outputs": [],
   "source": [
    "### Mengurutkan data berdasarkan kolom tertentu"
   ]
  },
  {
   "cell_type": "code",
   "execution_count": null,
   "id": "594bb430-fbbe-439c-ba85-589dc8f98d6d",
   "metadata": {},
   "outputs": [],
   "source": [
    "df.sort_values('age').head()"
   ]
  },
  {
   "cell_type": "code",
   "execution_count": null,
   "id": "c51d0ba4-dbbc-46a0-8c47-2924959f0a4c",
   "metadata": {},
   "outputs": [],
   "source": [
    "df.sort_values('age', ascending=False).head()"
   ]
  },
  {
   "cell_type": "code",
   "execution_count": null,
   "id": "89a6452e-2ce7-470f-8b06-7284bfe21dc1",
   "metadata": {},
   "outputs": [],
   "source": [
    "df.sort_values(['survived', 'age']).head()"
   ]
  }
 ],
 "metadata": {
  "kernelspec": {
   "display_name": "Python [conda env:base] *",
   "language": "python",
   "name": "conda-base-py"
  },
  "language_info": {
   "codemirror_mode": {
    "name": "ipython",
    "version": 3
   },
   "file_extension": ".py",
   "mimetype": "text/x-python",
   "name": "python",
   "nbconvert_exporter": "python",
   "pygments_lexer": "ipython3",
   "version": "3.12.7"
  }
 },
 "nbformat": 4,
 "nbformat_minor": 5
}
