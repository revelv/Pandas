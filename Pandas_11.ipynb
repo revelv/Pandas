{
 "cells": [
  {
   "cell_type": "code",
   "execution_count": null,
   "id": "fa7bac6c-9662-4280-8e6c-d33cd3f0a4ee",
   "metadata": {},
   "outputs": [],
   "source": [
    "## \\#11: Melakukan seleksi kolom dan baris pada Data Frame menggunakan `loc`"
   ]
  },
  {
   "cell_type": "code",
   "execution_count": null,
   "id": "c4da477c-2b8d-43ab-b817-6e790e0f61dc",
   "metadata": {},
   "outputs": [],
   "source": [
    "import pandas as pd\n",
    "import numpy as np\n",
    "\n",
    "print(pd.__version__)\n",
    "print(np.__version__)"
   ]
  },
  {
   "cell_type": "code",
   "execution_count": null,
   "id": "07030402-db89-4f56-a509-16bdcfbaaa0a",
   "metadata": {},
   "outputs": [],
   "source": [
    "n_rows = 10\n",
    "n_cols = 5\n",
    "cols = tuple('ABCDE')\n",
    "\n",
    "df = pd.DataFrame(np.random.randint(1, 20, size=(n_rows, n_cols)), \n",
    "                  columns=cols)\n",
    "df"
   ]
  },
  {
   "cell_type": "code",
   "execution_count": null,
   "id": "75df5c36-951d-42fe-a46b-de641729f0c3",
   "metadata": {},
   "outputs": [],
   "source": [
    "### Seleksi kolom dan baris menggunakan `loc`"
   ]
  },
  {
   "cell_type": "code",
   "execution_count": null,
   "id": "5a582ef0-facf-4489-91f3-c21e173ceaeb",
   "metadata": {},
   "outputs": [],
   "source": [
    "df.loc[[0,3,4], ['B','E']]"
   ]
  },
  {
   "cell_type": "code",
   "execution_count": null,
   "id": "8c836044-6fac-43a1-88ed-745e2f69301f",
   "metadata": {},
   "outputs": [],
   "source": [
    "### Seleksi baris dengan kondisi"
   ]
  },
  {
   "cell_type": "code",
   "execution_count": null,
   "id": "1b083fee-f585-4bf2-821c-08e32a9806b4",
   "metadata": {},
   "outputs": [],
   "source": [
    "df.loc[df['B']>10, ['B','D','E']]"
   ]
  },
  {
   "cell_type": "code",
   "execution_count": null,
   "id": "cf34c556-121c-4c84-85b4-4e0b611dfa90",
   "metadata": {},
   "outputs": [],
   "source": [
    "### Slicing Data Frame dengan `loc`"
   ]
  },
  {
   "cell_type": "code",
   "execution_count": null,
   "id": "a8f0a0cf-b65e-4700-86a4-19c63433cfd7",
   "metadata": {},
   "outputs": [],
   "source": [
    "df.loc[0:4, 'B':'D']"
   ]
  }
 ],
 "metadata": {
  "kernelspec": {
   "display_name": "Python [conda env:base] *",
   "language": "python",
   "name": "conda-base-py"
  },
  "language_info": {
   "codemirror_mode": {
    "name": "ipython",
    "version": 3
   },
   "file_extension": ".py",
   "mimetype": "text/x-python",
   "name": "python",
   "nbconvert_exporter": "python",
   "pygments_lexer": "ipython3",
   "version": "3.12.7"
  }
 },
 "nbformat": 4,
 "nbformat_minor": 5
}
