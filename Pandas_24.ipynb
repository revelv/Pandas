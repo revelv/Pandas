{
 "cells": [
  {
   "cell_type": "code",
   "execution_count": null,
   "id": "be43b38e-91ef-43ec-8fe3-68049ec4e4af",
   "metadata": {},
   "outputs": [],
   "source": [
    "## \\#24: UTC dan konversi zona waktu (time zone) pada Python Pandas"
   ]
  },
  {
   "cell_type": "code",
   "execution_count": 2,
   "id": "9a623447-497b-41dc-b337-14bdaf1271ee",
   "metadata": {},
   "outputs": [
    {
     "name": "stdout",
     "output_type": "stream",
     "text": [
      "2.2.2\n"
     ]
    }
   ],
   "source": [
    "import pandas as pd\n",
    "\n",
    "print(pd.__version__)"
   ]
  },
  {
   "cell_type": "code",
   "execution_count": null,
   "id": "a41e3aaa-5653-480d-acd0-3e9f43cc66e1",
   "metadata": {},
   "outputs": [],
   "source": [
    "### Persiapan Series"
   ]
  },
  {
   "cell_type": "code",
   "execution_count": 4,
   "id": "b7bbebe0-bc6b-4aae-b2e9-2ee2a17d52b8",
   "metadata": {},
   "outputs": [
    {
     "data": {
      "text/plain": [
       "0   2020-06-09 06:18:41\n",
       "1   2020-06-09 07:18:41\n",
       "2   2020-06-09 08:18:41\n",
       "3   2020-06-09 09:18:41\n",
       "4   2020-06-09 10:18:41\n",
       "dtype: datetime64[ns]"
      ]
     },
     "execution_count": 4,
     "metadata": {},
     "output_type": "execute_result"
    }
   ],
   "source": [
    "s = pd.Series(range(1591683521, 1592201921, 3600))\n",
    "s = pd.to_datetime(s, unit='s')\n",
    "s.head()"
   ]
  },
  {
   "cell_type": "code",
   "execution_count": 6,
   "id": "5cda654f-0684-4ef8-97bf-9486b278523d",
   "metadata": {},
   "outputs": [],
   "source": [
    "### Pengaturan zona waktu (time zone)"
   ]
  },
  {
   "cell_type": "code",
   "execution_count": 8,
   "id": "bd619092-2acc-4d9b-969a-fe95f64c9668",
   "metadata": {},
   "outputs": [
    {
     "data": {
      "text/plain": [
       "0   2020-06-09 06:18:41+00:00\n",
       "1   2020-06-09 07:18:41+00:00\n",
       "2   2020-06-09 08:18:41+00:00\n",
       "3   2020-06-09 09:18:41+00:00\n",
       "4   2020-06-09 10:18:41+00:00\n",
       "dtype: datetime64[ns, UTC]"
      ]
     },
     "execution_count": 8,
     "metadata": {},
     "output_type": "execute_result"
    }
   ],
   "source": [
    "s = s.dt.tz_localize('UTC')\n",
    "s.head()"
   ]
  },
  {
   "cell_type": "code",
   "execution_count": 10,
   "id": "57aea68a-0620-4dd2-a8de-471312856688",
   "metadata": {},
   "outputs": [
    {
     "data": {
      "text/plain": [
       "0   2020-06-09 13:18:41+07:00\n",
       "1   2020-06-09 14:18:41+07:00\n",
       "2   2020-06-09 15:18:41+07:00\n",
       "3   2020-06-09 16:18:41+07:00\n",
       "4   2020-06-09 17:18:41+07:00\n",
       "dtype: datetime64[ns, Asia/Jakarta]"
      ]
     },
     "execution_count": 10,
     "metadata": {},
     "output_type": "execute_result"
    }
   ],
   "source": [
    "s = s.dt.tz_convert('Asia/Jakarta')\n",
    "s.head()"
   ]
  },
  {
   "cell_type": "code",
   "execution_count": 12,
   "id": "66f8981c-2323-47d9-9adb-198aeb75496e",
   "metadata": {},
   "outputs": [
    {
     "data": {
      "text/plain": [
       "0   2020-06-09 16:18:41+10:00\n",
       "1   2020-06-09 17:18:41+10:00\n",
       "2   2020-06-09 18:18:41+10:00\n",
       "3   2020-06-09 19:18:41+10:00\n",
       "4   2020-06-09 20:18:41+10:00\n",
       "dtype: datetime64[ns, Australia/Hobart]"
      ]
     },
     "execution_count": 12,
     "metadata": {},
     "output_type": "execute_result"
    }
   ],
   "source": [
    "s = s.dt.tz_convert('Australia/Hobart')\n",
    "s.head()"
   ]
  }
 ],
 "metadata": {
  "kernelspec": {
   "display_name": "Python [conda env:base] *",
   "language": "python",
   "name": "conda-base-py"
  },
  "language_info": {
   "codemirror_mode": {
    "name": "ipython",
    "version": 3
   },
   "file_extension": ".py",
   "mimetype": "text/x-python",
   "name": "python",
   "nbconvert_exporter": "python",
   "pygments_lexer": "ipython3",
   "version": "3.12.7"
  }
 },
 "nbformat": 4,
 "nbformat_minor": 5
}
