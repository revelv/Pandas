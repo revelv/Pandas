{
 "cells": [
  {
   "cell_type": "code",
   "execution_count": null,
   "id": "3dde119b-9676-4633-8345-1901571cecee",
   "metadata": {},
   "outputs": [],
   "source": [
    "## \\#38: Mengenal parameter `header` dan `skiprows`"
   ]
  },
  {
   "cell_type": "code",
   "execution_count": 1,
   "id": "d315aeeb-16ba-4f83-89b0-4dee1c6d2faa",
   "metadata": {},
   "outputs": [
    {
     "name": "stdout",
     "output_type": "stream",
     "text": [
      "2.2.2\n"
     ]
    }
   ],
   "source": [
    "import pandas as pd\n",
    "\n",
    "print(pd.__version__)"
   ]
  },
  {
   "cell_type": "code",
   "execution_count": null,
   "id": "fbd22e11-7fad-410e-a262-1c1b28d65218",
   "metadata": {},
   "outputs": [],
   "source": [
    "df = pd.read_csv('./data/iris_error.csv')\n",
    "df.head(8)"
   ]
  },
  {
   "cell_type": "code",
   "execution_count": null,
   "id": "b88a9df7-297b-45e3-b89b-8dc297549551",
   "metadata": {},
   "outputs": [],
   "source": [
    "df = pd.read_csv('./data/iris_error.csv', header=2, skiprows=[5,6])\n",
    "df.head()"
   ]
  }
 ],
 "metadata": {
  "kernelspec": {
   "display_name": "Python [conda env:base] *",
   "language": "python",
   "name": "conda-base-py"
  },
  "language_info": {
   "codemirror_mode": {
    "name": "ipython",
    "version": 3
   },
   "file_extension": ".py",
   "mimetype": "text/x-python",
   "name": "python",
   "nbconvert_exporter": "python",
   "pygments_lexer": "ipython3",
   "version": "3.12.7"
  }
 },
 "nbformat": 4,
 "nbformat_minor": 5
}
