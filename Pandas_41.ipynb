{
 "cells": [
  {
   "cell_type": "code",
   "execution_count": null,
   "id": "8c64346f-c98a-4c1a-be3b-86b20fce6191",
   "metadata": {},
   "outputs": [],
   "source": [
    "## \\#41: Menerapkan agregasi pada sejumlah kolom dengan `agg()`"
   ]
  },
  {
   "cell_type": "code",
   "execution_count": 1,
   "id": "1bcd4f84-a5ec-4d39-97c1-2a0ee30fa150",
   "metadata": {},
   "outputs": [
    {
     "name": "stdout",
     "output_type": "stream",
     "text": [
      "2.2.2\n"
     ]
    }
   ],
   "source": [
    "import pandas as pd\n",
    "\n",
    "print(pd.__version__)"
   ]
  },
  {
   "cell_type": "code",
   "execution_count": null,
   "id": "c8f6edcc-4dcf-40b6-9acd-0d9fd93cf541",
   "metadata": {},
   "outputs": [],
   "source": [
    "df = pd.read_csv('./data/titanicfull.csv')\n",
    "df.head()"
   ]
  },
  {
   "cell_type": "code",
   "execution_count": null,
   "id": "04781b2c-54a8-40a8-a89d-fc7193b92302",
   "metadata": {},
   "outputs": [],
   "source": [
    " ### Menerapkan agregasi pada sejumlah kolom dengan `agg()`"
   ]
  },
  {
   "cell_type": "code",
   "execution_count": null,
   "id": "03806a6f-0dde-4ec3-974a-eb74e864bac6",
   "metadata": {},
   "outputs": [],
   "source": [
    "df.groupby('pclass').agg({'pclass':'count', \n",
    "                          'age':['mean', 'max'], \n",
    "                          'survived': 'mean'})"
   ]
  },
  {
   "cell_type": "code",
   "execution_count": null,
   "id": "f7fcc07a-c41d-440e-a218-850800de4776",
   "metadata": {},
   "outputs": [],
   "source": [
    "df.groupby('pclass').agg(n_pass=('pclass', 'count'),\n",
    "                         avg_age=('age', 'mean'),\n",
    "                         max_age=('age', 'max'), \n",
    "                         survival_rate=('survived', 'mean'))"
   ]
  }
 ],
 "metadata": {
  "kernelspec": {
   "display_name": "Python [conda env:base] *",
   "language": "python",
   "name": "conda-base-py"
  },
  "language_info": {
   "codemirror_mode": {
    "name": "ipython",
    "version": 3
   },
   "file_extension": ".py",
   "mimetype": "text/x-python",
   "name": "python",
   "nbconvert_exporter": "python",
   "pygments_lexer": "ipython3",
   "version": "3.12.7"
  }
 },
 "nbformat": 4,
 "nbformat_minor": 5
}
