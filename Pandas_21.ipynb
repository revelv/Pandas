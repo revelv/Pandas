{
 "cells": [
  {
   "cell_type": "code",
   "execution_count": null,
   "id": "0075e072-46ac-44fd-a9e5-8eafc79b973e",
   "metadata": {},
   "outputs": [],
   "source": [
    "## \\#21: Melakukan agregasi menggunakan `agg()`"
   ]
  },
  {
   "cell_type": "code",
   "execution_count": 2,
   "id": "304ce3d7-5d17-4d56-8831-c4886a39be35",
   "metadata": {},
   "outputs": [
    {
     "name": "stdout",
     "output_type": "stream",
     "text": [
      "2.2.2\n"
     ]
    }
   ],
   "source": [
    "import pandas as pd\n",
    "\n",
    "print(pd.__version__)"
   ]
  },
  {
   "cell_type": "code",
   "execution_count": null,
   "id": "aa1a4bf2-caeb-46b4-9c8f-aa8f7345e4be",
   "metadata": {},
   "outputs": [],
   "source": [
    "df = pd.read_csv('./data/Iris.csv')\n",
    "df"
   ]
  },
  {
   "cell_type": "code",
   "execution_count": null,
   "id": "3cb7cab2-1972-41ce-8ebb-0fab7765a442",
   "metadata": {},
   "outputs": [],
   "source": [
    "### Mengenal `groupby()` dan fungsi agregasi"
   ]
  },
  {
   "cell_type": "code",
   "execution_count": null,
   "id": "36dc168b-2641-475f-a600-cb5a4ad2607b",
   "metadata": {},
   "outputs": [],
   "source": [
    "df.groupby('Species')['PetalLengthCm'].count().to_frame()"
   ]
  },
  {
   "cell_type": "code",
   "execution_count": null,
   "id": "aab032d2-4180-49b6-8479-acfb5db48652",
   "metadata": {},
   "outputs": [],
   "source": [
    "df.groupby('Species')['PetalLengthCm'].mean().to_frame()"
   ]
  },
  {
   "cell_type": "code",
   "execution_count": null,
   "id": "55374b0b-fa15-4c21-8d1c-74f163fa67d1",
   "metadata": {},
   "outputs": [],
   "source": [
    "df.groupby('Species')['PetalLengthCm'].median().to_frame()"
   ]
  },
  {
   "cell_type": "code",
   "execution_count": null,
   "id": "3fbe6926-adce-4daa-82b7-61bc0b4a4917",
   "metadata": {},
   "outputs": [],
   "source": [
    "### Agregasi dengan `agg()`"
   ]
  },
  {
   "cell_type": "code",
   "execution_count": null,
   "id": "3c7fe4c2-8d6e-4917-815f-e3c33ba733a9",
   "metadata": {},
   "outputs": [],
   "source": [
    "df.groupby('Species')['PetalLengthCm'].agg(['count', 'mean', 'median'])"
   ]
  },
  {
   "cell_type": "code",
   "execution_count": null,
   "id": "1a88abe2-5ce7-4f20-abe3-b9931f85beaa",
   "metadata": {},
   "outputs": [],
   "source": [
    "### Agregasi dengan `describe()`"
   ]
  },
  {
   "cell_type": "code",
   "execution_count": null,
   "id": "e187a7f4-68bf-4ff0-bbf1-b8ade5a155c6",
   "metadata": {},
   "outputs": [],
   "source": [
    "df.groupby('Species')['PetalLengthCm'].describe()"
   ]
  }
 ],
 "metadata": {
  "kernelspec": {
   "display_name": "Python [conda env:base] *",
   "language": "python",
   "name": "conda-base-py"
  },
  "language_info": {
   "codemirror_mode": {
    "name": "ipython",
    "version": 3
   },
   "file_extension": ".py",
   "mimetype": "text/x-python",
   "name": "python",
   "nbconvert_exporter": "python",
   "pygments_lexer": "ipython3",
   "version": "3.12.7"
  }
 },
 "nbformat": 4,
 "nbformat_minor": 5
}
