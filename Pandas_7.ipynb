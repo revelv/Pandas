{
 "cells": [
  {
   "cell_type": "code",
   "execution_count": null,
   "id": "b842af15-1ba8-4a81-91ac-6bb7d95fab92",
   "metadata": {},
   "outputs": [],
   "source": [
    "## \\#07: Menghapus (drop) missing values (`NaN`)"
   ]
  },
  {
   "cell_type": "code",
   "execution_count": 2,
   "id": "c7e3c772-987c-404a-a4e9-294e7cb64fd7",
   "metadata": {},
   "outputs": [
    {
     "name": "stdout",
     "output_type": "stream",
     "text": [
      "2.2.2\n"
     ]
    }
   ],
   "source": [
    "import pandas as pd\n",
    "\n",
    "print(pd.__version__)"
   ]
  },
  {
   "cell_type": "code",
   "execution_count": null,
   "id": "7d754190-85a7-46b4-a3a2-748a469c2dbf",
   "metadata": {},
   "outputs": [],
   "source": [
    "n_rows = 30\n",
    "n_cols = 4\n",
    "cols = ['A', 'B', 'C', 'D']\n",
    "\n",
    "df = pd.DataFrame(np.random.randn(n_rows, n_cols), columns=cols)\n",
    "\n",
    "nan_mask = np.random.rand(n_rows, n_cols) < 0.2\n",
    "df[nan_mask] = np.nan\n",
    "\n",
    "df = df.reset_index()\n",
    "df.head()"
   ]
  },
  {
   "cell_type": "code",
   "execution_count": null,
   "id": "f0db104a-2bc2-4a33-9709-bc9a37c38bca",
   "metadata": {},
   "outputs": [],
   "source": [
    "df = df.rename(columns={'index':'Z'})\n",
    "df.head()"
   ]
  },
  {
   "cell_type": "code",
   "execution_count": null,
   "id": "5530e258-725f-4c81-937e-f5cbae4dbd15",
   "metadata": {},
   "outputs": [],
   "source": [
    "df_backup = df.copy(deep=True)"
   ]
  },
  {
   "cell_type": "code",
   "execution_count": null,
   "id": "9e221dad-b448-4770-b6bb-41f66596cc66",
   "metadata": {},
   "outputs": [],
   "source": [
    "### Menghapus (drop) setiap kolom yang mengandung missing values"
   ]
  },
  {
   "cell_type": "code",
   "execution_count": null,
   "id": "891c7a99-ec5a-4bad-ab1a-b6ccc64c16cf",
   "metadata": {},
   "outputs": [],
   "source": [
    "df = df.dropna(axis='columns') \n",
    "df.head()"
   ]
  },
  {
   "cell_type": "code",
   "execution_count": null,
   "id": "692cd3c3-a3ab-442d-84e7-bb7e5bc88720",
   "metadata": {},
   "outputs": [],
   "source": [
    "### Menghapus (drop) setiap baris yang mengandung missing values"
   ]
  },
  {
   "cell_type": "code",
   "execution_count": null,
   "id": "3cbfb789-0596-48e0-a868-0a70d2b29fa5",
   "metadata": {},
   "outputs": [],
   "source": [
    "df = df_backup.copy(deep=True)\n",
    "df = df.dropna(axis='rows')\n",
    "df.head()"
   ]
  },
  {
   "cell_type": "code",
   "execution_count": null,
   "id": "4e45eaa3-d94f-45e5-bb50-9f5353ebc692",
   "metadata": {},
   "outputs": [],
   "source": [
    "### Persentase missing values untuk tiap kolom"
   ]
  },
  {
   "cell_type": "code",
   "execution_count": null,
   "id": "4db67887-0905-47e1-b701-f44d1df804fa",
   "metadata": {},
   "outputs": [],
   "source": [
    "df = df_backup.copy(deep=True)\n",
    "df.isna().mean()"
   ]
  },
  {
   "cell_type": "code",
   "execution_count": null,
   "id": "4abac0ef-fb5b-4518-982f-fa7e23f253cb",
   "metadata": {},
   "outputs": [],
   "source": [
    "### Menghapus (drop) setiap kolom yang mengandung missing values berdasarkan threshold"
   ]
  },
  {
   "cell_type": "code",
   "execution_count": null,
   "id": "fe6aaef7-2237-4881-b759-05e038da0916",
   "metadata": {},
   "outputs": [],
   "source": [
    "treshold = len(df) * 0.9\n",
    "df = df.dropna(thresh=treshold, axis='columns')\n",
    "df.head()"
   ]
  }
 ],
 "metadata": {
  "kernelspec": {
   "display_name": "Python [conda env:base] *",
   "language": "python",
   "name": "conda-base-py"
  },
  "language_info": {
   "codemirror_mode": {
    "name": "ipython",
    "version": 3
   },
   "file_extension": ".py",
   "mimetype": "text/x-python",
   "name": "python",
   "nbconvert_exporter": "python",
   "pygments_lexer": "ipython3",
   "version": "3.12.7"
  }
 },
 "nbformat": 4,
 "nbformat_minor": 5
}
