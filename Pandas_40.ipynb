{
 "cells": [
  {
   "cell_type": "code",
   "execution_count": null,
   "id": "1fa1d970-8a30-443e-a65d-c093c64ab03f",
   "metadata": {},
   "outputs": [],
   "source": [
    "## \\#40: Mengakses sekelompok data dengan `get_group()`"
   ]
  },
  {
   "cell_type": "code",
   "execution_count": 2,
   "id": "30219e30-a436-42cc-9b2b-6ea18a4f5120",
   "metadata": {},
   "outputs": [
    {
     "name": "stdout",
     "output_type": "stream",
     "text": [
      "2.2.2\n"
     ]
    }
   ],
   "source": [
    "import pandas as pd\n",
    "\n",
    "print(pd.__version__)"
   ]
  },
  {
   "cell_type": "code",
   "execution_count": null,
   "id": "fcb8750f-6d3b-4820-8f98-57bb9c5c38e4",
   "metadata": {},
   "outputs": [],
   "source": [
    "df = pd.read_csv('./data/titanicfull.csv')\n",
    "df.head()"
   ]
  },
  {
   "cell_type": "code",
   "execution_count": null,
   "id": "1e38fd4d-33e9-4aab-a629-91f910d47f1c",
   "metadata": {},
   "outputs": [],
   "source": [
    "### Mengakses sekelompok data yang sudah terkelompok dengan `get_group()`"
   ]
  },
  {
   "cell_type": "code",
   "execution_count": null,
   "id": "09659cdf-8c8e-4b2c-824d-43c160475120",
   "metadata": {},
   "outputs": [],
   "source": [
    "grouped_df = df.groupby('sex')"
   ]
  },
  {
   "cell_type": "code",
   "execution_count": null,
   "id": "975bc351-0dd3-42a2-9695-d8131235d2bb",
   "metadata": {},
   "outputs": [],
   "source": [
    "grouped_df.get_group('female').head(10)"
   ]
  },
  {
   "cell_type": "code",
   "execution_count": null,
   "id": "d33ac218-f5ff-4909-9469-b867e9a44ff8",
   "metadata": {},
   "outputs": [],
   "source": [
    "grouped_df = df.groupby('survived')"
   ]
  },
  {
   "cell_type": "code",
   "execution_count": null,
   "id": "6fe57bdf-69a9-4a44-a126-0d52086ef6e6",
   "metadata": {},
   "outputs": [],
   "source": [
    "grouped_df.get_group(1).head(10)"
   ]
  }
 ],
 "metadata": {
  "kernelspec": {
   "display_name": "Python [conda env:base] *",
   "language": "python",
   "name": "conda-base-py"
  },
  "language_info": {
   "codemirror_mode": {
    "name": "ipython",
    "version": 3
   },
   "file_extension": ".py",
   "mimetype": "text/x-python",
   "name": "python",
   "nbconvert_exporter": "python",
   "pygments_lexer": "ipython3",
   "version": "3.12.7"
  }
 },
 "nbformat": 4,
 "nbformat_minor": 5
}
