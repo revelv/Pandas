{
 "cells": [
  {
   "cell_type": "code",
   "execution_count": null,
   "id": "82b4bf42-a9f5-442a-9e15-e3ac7a29c985",
   "metadata": {},
   "outputs": [],
   "source": [
    "## \\#45: Memadukan `loc` dan `iloc` untuk melakukan seleksi data"
   ]
  },
  {
   "cell_type": "code",
   "execution_count": 1,
   "id": "163631ce-5844-4441-8514-bddbf542780c",
   "metadata": {},
   "outputs": [
    {
     "name": "stdout",
     "output_type": "stream",
     "text": [
      "2.2.2\n"
     ]
    }
   ],
   "source": [
    "import pandas as pd\n",
    "\n",
    "print(pd.__version__)"
   ]
  },
  {
   "cell_type": "code",
   "execution_count": null,
   "id": "7dda6617-b9e7-468c-934d-f24f73198f13",
   "metadata": {},
   "outputs": [],
   "source": [
    "df = pd.read_csv('./data/titanicfull.csv')\n",
    "df.head()"
   ]
  },
  {
   "cell_type": "code",
   "execution_count": null,
   "id": "5960885d-d9b9-4850-b728-31ec3d366e7f",
   "metadata": {},
   "outputs": [],
   "source": [
    "### Memadukan `loc` dan `iloc` untuk melakukan seleksi data"
   ]
  },
  {
   "cell_type": "code",
   "execution_count": null,
   "id": "c2285826-794b-4126-8ef8-3106696acb2f",
   "metadata": {},
   "outputs": [],
   "source": [
    "df.iloc[15:20, :].loc[:, 'name':'age']"
   ]
  },
  {
   "cell_type": "code",
   "execution_count": null,
   "id": "2e4c7b98-b09f-4314-a73a-bcf9659a1e24",
   "metadata": {},
   "outputs": [],
   "source": [
    "df.loc[:, 'name':'age'].iloc[15:20, :]"
   ]
  }
 ],
 "metadata": {
  "kernelspec": {
   "display_name": "Python [conda env:base] *",
   "language": "python",
   "name": "conda-base-py"
  },
  "language_info": {
   "codemirror_mode": {
    "name": "ipython",
    "version": 3
   },
   "file_extension": ".py",
   "mimetype": "text/x-python",
   "name": "python",
   "nbconvert_exporter": "python",
   "pygments_lexer": "ipython3",
   "version": "3.12.7"
  }
 },
 "nbformat": 4,
 "nbformat_minor": 5
}
