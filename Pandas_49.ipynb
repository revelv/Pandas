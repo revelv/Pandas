{
 "cells": [
  {
   "cell_type": "code",
   "execution_count": null,
   "id": "18b45143-d1fc-4736-8a8f-b0473e244e16",
   "metadata": {},
   "outputs": [],
   "source": [
    "## \\#49: Seleksi kolom dengan `f-string`"
   ]
  },
  {
   "cell_type": "code",
   "execution_count": 2,
   "id": "34142e36-4b5b-4fd2-95a8-0aab51f2547c",
   "metadata": {},
   "outputs": [
    {
     "name": "stdout",
     "output_type": "stream",
     "text": [
      "2.2.2\n"
     ]
    }
   ],
   "source": [
    "import pandas as pd\n",
    "\n",
    "print(pd.__version__)"
   ]
  },
  {
   "cell_type": "code",
   "execution_count": null,
   "id": "68b23423-bbd7-4872-9b75-5ba203837c2c",
   "metadata": {},
   "outputs": [],
   "source": [
    "df = pd.read_csv('./data/Iris.csv')\n",
    "df.head()"
   ]
  },
  {
   "cell_type": "code",
   "execution_count": null,
   "id": "7d3c411e-64c2-46f1-a576-d1b221ca4147",
   "metadata": {},
   "outputs": [],
   "source": [
    "### Seleksi kolom dengan `f-string`"
   ]
  },
  {
   "cell_type": "code",
   "execution_count": null,
   "id": "3c8f9512-6d09-4c64-83e9-25f985c36e46",
   "metadata": {},
   "outputs": [],
   "source": [
    "df['SepalWidthCm'].to_frame().head()"
   ]
  },
  {
   "cell_type": "code",
   "execution_count": null,
   "id": "fcded809-1263-45bc-aba7-c5825ec0c1d4",
   "metadata": {},
   "outputs": [],
   "source": [
    "part = 'Sepal'\n",
    "\n",
    "df[f'{part}WidthCm'].to_frame().head()"
   ]
  },
  {
   "cell_type": "code",
   "execution_count": null,
   "id": "5d96ea9d-a841-41a6-b9db-572625447787",
   "metadata": {},
   "outputs": [],
   "source": [
    "df[['PetalWidthCm', 'PetalLengthCm']].head()"
   ]
  },
  {
   "cell_type": "code",
   "execution_count": null,
   "id": "d52dd3bb-ccaa-4251-b7b1-bbc9a75440ce",
   "metadata": {},
   "outputs": [],
   "source": [
    "part = 'Petal'\n",
    "\n",
    "df[[f'{part}WidthCm', f'{part}LengthCm']].head()"
   ]
  }
 ],
 "metadata": {
  "kernelspec": {
   "display_name": "Python [conda env:base] *",
   "language": "python",
   "name": "conda-base-py"
  },
  "language_info": {
   "codemirror_mode": {
    "name": "ipython",
    "version": 3
   },
   "file_extension": ".py",
   "mimetype": "text/x-python",
   "name": "python",
   "nbconvert_exporter": "python",
   "pygments_lexer": "ipython3",
   "version": "3.12.7"
  }
 },
 "nbformat": 4,
 "nbformat_minor": 5
}
